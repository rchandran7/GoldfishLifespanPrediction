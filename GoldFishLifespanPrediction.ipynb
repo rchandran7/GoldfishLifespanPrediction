{
  "cells": [
    {
      "cell_type": "markdown",
      "metadata": {
        "colab_type": "text",
        "id": "view-in-github"
      },
      "source": [
        "<a href=\"https://colab.research.google.com/github/rchandran7/GoldfishLifespanPrediction/blob/main/GoldFishLifespanPrediction.ipynb\" target=\"_parent\"><img src=\"https://colab.research.google.com/assets/colab-badge.svg\" alt=\"Open In Colab\"/></a>"
      ]
    },
    {
      "cell_type": "markdown",
      "metadata": {},
      "source": [
        "## Question\n",
        "We were curious if there was a way to accurately predict the lifespan of animal based on their living environment. To investigate this, we decided to explore a dataset on the lifespans of goldfish. Can we effectively predict the lifespan of a goldfish given environmental and biological data?"
      ]
    },
    {
      "cell_type": "markdown",
      "metadata": {},
      "source": [
        "## Our Approach\n",
        "Given the nature of the goldfish lifespan prediction task, we'll use regression algorithms and a neural network. In our approach, we considered linear regression with L1 regularization (LASSO), Bayesian regression with L2 regularization and PCA (Principle Component Analysis), and a simple neural network."
      ]
    },
    {
      "cell_type": "markdown",
      "metadata": {},
      "source": [
        "## Results Prediction\n",
        "Given the nature of the goldfish lifespan prediction task, we hypothesize that the relationship between factors such as gender and habitat with the goldfish lifespan will be relatively linear. Therefore, we expect a linear regression to be a suitable and effective algorithm for this prediction. The simplicity of linear regression along with regularization should not overfit our relatively small data. Along with some feature implementations and regularizations, we anticipate the linear models (Bayesian and LASSO) to perform well."
      ]
    },
    {
      "cell_type": "markdown",
      "metadata": {},
      "source": [
        "## Motivation\n",
        "While predicting the lifespan of goldfish might seem specific, the underlying concept of using machine learning for predictive modeling can be applied to various domains. For instance, understanding the factors influencing a goldfish's lifespan can be analogous to predicting the lifespan or health outcomes in other living organisms or systems. This approach can be valuable in a broader context, such as predicting health outcomes for different species or optimizing conditions in controlled environments."
      ]
    },
    {
      "cell_type": "markdown",
      "metadata": {},
      "source": [
        "## Data Preprocessing\n",
        "The goldfish data set, we utilized required some preprocessing before fitting our model. First, we load in our necessary libraries. "
      ]
    },
    {
      "cell_type": "code",
      "execution_count": 6,
      "metadata": {},
      "outputs": [],
      "source": [
        "import sys  # For command line file input.\n",
        "import pandas as pd  # For easy date frame manipulation\n",
        "from sklearn.model_selection import train_test_split  # To split processed data"
      ]
    },
    {
      "cell_type": "markdown",
      "metadata": {},
      "source": [
        "Then, we create a helper function to create a dummy variable column. Dummy variable columns are used to represent categorical data numerically (0 or 1)."
      ]
    },
    {
      "cell_type": "code",
      "execution_count": 2,
      "metadata": {},
      "outputs": [],
      "source": [
        "def dummy_variable_col(df, col):\n",
        "    # Create dummy variables for the specified column\n",
        "    df_temp = pd.get_dummies(df[col])\n",
        "    df_temp = df_temp.astype(int)\n",
        "    # Concatenate the dummy variables to the original DataFrame and reindex\n",
        "    df = pd.concat([df, df_temp], axis=1,).reindex(df.index)\n",
        "    # Drop the original column as dummy variables are created\n",
        "    df.drop(col, axis=1, inplace=True)\n",
        "    return df"
      ]
    },
    {
      "cell_type": "markdown",
      "metadata": {},
      "source": [
        "Next, we read in the csv file from the command-line and perform some preprocessing that will be beneficial when creating our models. We opted to drop the id and color features as we believe they are not statistically significant. Then we create dummy variable columns for each category in habitat, so all our data is numerical. (Code will error as no command line input can be passed in.)"
      ]
    },
    {
      "cell_type": "code",
      "execution_count": 7,
      "metadata": {},
      "outputs": [],
      "source": [
        "# Check if the correct number of command-line arguments is provided\n",
        "if len(sys.argv) == 3:\n",
        "    # Assign input and output file names from command-line arguments\n",
        "    file_input = sys.argv[1]\n",
        "    file_output = sys.argv[2]\n",
        "else:\n",
        "    # Print an error message if the number of arguments is invalid\n",
        "    print(\"Error: Invalid number of arguments.\", file=sys.stderr)\n",
        "\n",
        "# Read the input CSV file into a Pandas DataFrame\n",
        "df = pd.read_csv(file_input)\n",
        "df = df.drop(['id', 'color'], axis=1)\n",
        "df = df.dropna() # Drop any null (empty) values\n",
        "df = dummy_variable_col(df, 'habitat')\n",
        "df['Gender'] = df['Gender'].replace({True: 'male', False: 'female'})"
      ]
    },
    {
      "cell_type": "markdown",
      "metadata": {},
      "source": [
        "Lastly, we split the processed data frame into training and testing splits. We opted for 90/10 split to ensure we had enough training data. Output the train and data sets as CSV files."
      ]
    },
    {
      "cell_type": "code",
      "execution_count": 8,
      "metadata": {},
      "outputs": [],
      "source": [
        "# Split the DataFrame into training and testing sets\n",
        "train_df, test_df = train_test_split(df, test_size=0.1, random_state=42)\n",
        "\n",
        "# Write the training and testing sets to CSV files\n",
        "train_df.to_csv(file_output + '_train.csv', index=False)\n",
        "test_df.to_csv(file_output + '_test.csv', index=False)"
      ]
    },
    {
      "cell_type": "markdown",
      "metadata": {},
      "source": [
        "## LASSO"
      ]
    },
    {
      "cell_type": "markdown",
      "metadata": {},
      "source": [
        "To begin LASSO regression, import the necessary libraries. "
      ]
    },
    {
      "cell_type": "code",
      "execution_count": 18,
      "metadata": {},
      "outputs": [],
      "source": [
        "from sklearn.linear_model import Lasso  # Lasso regression model\n",
        "# Metric for evaluating model performance\n",
        "from sklearn.metrics import mean_squared_error\n",
        "# Data preprocessing tools\n",
        "from sklearn.preprocessing import StandardScaler, LabelEncoder\n",
        "# Hyperparameter tuning using grid search\n",
        "from sklearn.model_selection import GridSearchCV\n",
        "import pandas as pd  # Data manipulation\n",
        "import matplotlib.pyplot as plt  # Data visualization"
      ]
    },
    {
      "cell_type": "markdown",
      "metadata": {},
      "source": [
        "This next code section reads processed new fish data from the CSV files. It encodes the 'Gender' column numerically using LabelEncoder and performs feature scaling on the input features using StandardScaler for uniformity in scale during training. We also specify that 'life_span' is our target variable to predict."
      ]
    },
    {
      "cell_type": "code",
      "execution_count": 19,
      "metadata": {},
      "outputs": [],
      "source": [
        "# Read training and testing datasets\n",
        "df_train = pd.read_csv('new_fish_train.csv')\n",
        "df_test = pd.read_csv('new_fish_test.csv')\n",
        "\n",
        "# Encode 'Gender' column using LabelEncoder\n",
        "le = LabelEncoder()\n",
        "df_train['Gender'] = le.fit_transform(df_train['Gender'])\n",
        "\n",
        "# Preprocess 'Gender' column for testing set\n",
        "df_test['Gender'] = le.transform(df_test['Gender'])\n",
        "\n",
        "# Prepare feature and target variables for training and testing\n",
        "X_train = df_train.drop(['life_span'], axis=1)\n",
        "X_test = df_test.drop(['life_span'], axis=1)\n",
        "y_train = df_train['life_span']\n",
        "y_test = df_test['life_span']\n",
        "\n",
        "# Feature scaling using StandardScaler\n",
        "scaler = StandardScaler()\n",
        "X_train_scaled = scaler.fit_transform(X_train)\n",
        "X_test_scaled = scaler.transform(X_test)"
      ]
    },
    {
      "cell_type": "markdown",
      "metadata": {},
      "source": [
        "Now, we initialize a Lasso regression model to predict outcomes based on our input data. To enhance the model's effectiveness, we employ a technique called hyperparameter tuning, specifically using a process known as Grid Search with cross-validation. This involves systematically exploring different settings for a key configuration parameter (alpha) to discover the values that result in the best model performance. Once identified, these optimal settings are used to fine-tune the Lasso regression model. Subsequently, we leverage this refined model to generate predictions for the test dataset, providing insights into how well the model generalizes to new, unseen data."
      ]
    },
    {
      "cell_type": "code",
      "execution_count": 20,
      "metadata": {},
      "outputs": [],
      "source": [
        "# Initialize Lasso regression model\n",
        "lasso = Lasso()\n",
        "param_grid = {\n",
        "    'alpha': [0.001, 0.01, 0.1, 1.0],\n",
        "}\n",
        "# Define hyperparameter grid for GridSearchCV\n",
        "grid_search = GridSearchCV(\n",
        "    lasso, param_grid, scoring='neg_mean_squared_error', cv=5)\n",
        "# Perform Grid Search with cross-validation for hyperparameter tuning\n",
        "grid_search.fit(X_train_scaled, y_train)\n",
        "# Get the best hyperparameters from the grid search\n",
        "best_params = grid_search.best_params_\n",
        "# Retrieve the best model from the grid search\n",
        "best_model = grid_search.best_estimator_\n",
        "# Make predictions on the test set using the best model\n",
        "predictions = best_model.predict(X_test_scaled)"
      ]
    },
    {
      "cell_type": "markdown",
      "metadata": {},
      "source": [
        "Next, we calculate the Mean Squared Error (MSE) as a performance metric, providing a numerical measure of how well our predictions align with the real-life observations."
      ]
    },
    {
      "cell_type": "code",
      "execution_count": 21,
      "metadata": {},
      "outputs": [
        {
          "name": "stdout",
          "output_type": "stream",
          "text": [
            "Mean Squared Error: 53.68379994063018\n"
          ]
        }
      ],
      "source": [
        "# Create a DataFrame to compare actual and predicted values\n",
        "results = pd.DataFrame({'Actual': y_test, 'Predicted': predictions})\n",
        "print(results)\n",
        "\n",
        "# Calculate Mean Squared Error (MSE) as a performance metric\n",
        "mse = mean_squared_error(y_test, predictions)\n",
        "print(\"Mean Squared Error:\", mse)"
      ]
    },
    {
      "cell_type": "markdown",
      "metadata": {},
      "source": [
        "Finally, we will create a scatter plot to visualize our predictions and results."
      ]
    },
    {
      "cell_type": "code",
      "execution_count": 22,
      "metadata": {},
      "outputs": [
        {
          "data": {
            "image/png": "[encoded data removed]",
            "text/plain": [
              "<Figure size 1000x600 with 1 Axes>"
            ]
          },
          "metadata": {},
          "output_type": "display_data"
        }
      ],
      "source": [
        "# Visualize the predictions using a scatter plot\n",
        "plt.figure(figsize=(10, 6))\n",
        "plt.scatter(y_test, predictions, alpha=0.7)\n",
        "plt.xlabel('Actual life_span')\n",
        "plt.ylabel('Predicted life_span')\n",
        "plt.title('Scatter Plot for Lasso Regression Model Predictions on Test Set')\n",
        "plt.show()"
      ]
    },
    {
      "cell_type": "markdown",
      "metadata": {},
      "source": [
        "It is clear to see that LASSO regression did not perform well at all. This model seems to overfit the training data and makes predictions of only around 14 years. We will now explore other models to view their effectiveness in comparison."
      ]
    }
  ],
  "metadata": {
    "colab": {
      "authorship_tag": "ABX9TyM/wUSR+sWXoD9T7obyChR5",
      "include_colab_link": true,
      "provenance": []
    },
    "kernelspec": {
      "display_name": "Python 3",
      "name": "python3"
    },
    "language_info": {
      "codemirror_mode": {
        "name": "ipython",
        "version": 3
      },
      "file_extension": ".py",
      "mimetype": "text/x-python",
      "name": "python",
      "nbconvert_exporter": "python",
      "pygments_lexer": "ipython3",
      "version": "3.11.2"
    }
  },
  "nbformat": 4,
  "nbformat_minor": 0
}
